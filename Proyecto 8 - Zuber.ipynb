{
 "cells": [
  {
   "cell_type": "markdown",
   "metadata": {},
   "source": [
    "# Proyecto Zuber - Empresa de plataforma de viajes\n",
    "\n",
    "Descripción del proyecto:\n",
    "\n",
    "Estás trabajando como analista para Zuber, una nueva empresa de viajes compartidos que se está lanzando en Chicago. Tu tarea es encontrar patrones en la información disponible. Quieres comprender las preferencias de los pasajeros y el impacto de los factores externos en los viajes.\n",
    "\n",
    "Al trabajar con una base de datos, analizarás los datos de los competidores y probarás una hipótesis sobre el impacto del clima en la frecuencia de los viajes."
   ]
  },
  {
   "cell_type": "code",
   "execution_count": null,
   "metadata": {},
   "outputs": [],
   "source": [
    "# WebScraping con ayuda de la librería BeautifulSoup\n",
    "\n",
    "import requests\n",
    "from bs4 import BeautifulSoup\n",
    "import pandas as pd\n",
    "\n",
    "URL='https://practicum-content.s3.us-west-1.amazonaws.com/data-analyst-eng/moved_chicago_weather_2017.html'\n",
    "req = requests.get(URL)\n",
    "soup = BeautifulSoup(req.text, 'lxml')\n",
    "table = soup.find('table', attrs={\"id\": \"weather_records\"})\n",
    "heading_table=[]\n",
    "for row in table.find_all('th'):\n",
    "    heading_table.append(row.text)   \n",
    "content=[]\n",
    "for row in table.find_all('tr'):\n",
    "    if not row.find_all('th'):\n",
    "        content.append([element.text for element in row.find_all('td')])\n",
    "weather_records = pd.DataFrame(content, columns = heading_table)\n",
    "print(weather_records)"
   ]
  },
  {
   "cell_type": "markdown",
   "metadata": {},
   "source": [
    "## Tareas \n",
    "- **Estudiar los datos que contienen:** \n",
    "    -  Asegurarte de que los tipos de datos sean correctos. \n",
    "\n",
    "- **Identificar los 10 principales barrios en términos de finalización del recorrido.** \n",
    "\n",
    "- **Hacer gráficos:** \n",
    "    - Empresas de taxis y número de viajes. \n",
    "    - Los 10 barrios principales por número de finalizaciones. \n",
    "    - Sacar conclusiones basadas en cada gráfico. \n",
    "    - Explicar los resultados."
   ]
  },
  {
   "cell_type": "code",
   "execution_count": null,
   "metadata": {},
   "outputs": [],
   "source": [
    "#Aquí importaremos las librerías que estaremos usando para continuar con el análisis de los datos.\n",
    "\n",
    "import pandas as pd\n",
    "import numpy as np\n",
    "import seaborn as sns\n",
    "import matplotlib.pyplot as plt\n",
    "from scipy import stats as st"
   ]
  },
  {
   "cell_type": "code",
   "execution_count": 4,
   "metadata": {},
   "outputs": [],
   "source": [
    "co_trips = pd.read_csv(r'C:\\Users\\cesar\\Desktop\\Proyecto 8\\moved_project_sql_result_01.csv')\n",
    "avg_trips = pd.read_csv(r'C:\\Users\\cesar\\Desktop\\Proyecto 8\\moved_project_sql_result_04.csv')\n",
    "airport_travels = pd.read_csv(r'C:\\Users\\cesar\\Desktop\\Proyecto 8\\moved_project_sql_result_07.csv')\n"
   ]
  },
  {
   "cell_type": "code",
   "execution_count": 5,
   "metadata": {},
   "outputs": [
    {
     "name": "stdout",
     "output_type": "stream",
     "text": [
      "<class 'pandas.core.frame.DataFrame'>\n",
      "RangeIndex: 64 entries, 0 to 63\n",
      "Data columns (total 2 columns):\n",
      " #   Column        Non-Null Count  Dtype \n",
      "---  ------        --------------  ----- \n",
      " 0   company_name  64 non-null     object\n",
      " 1   trips_amount  64 non-null     int64 \n",
      "dtypes: int64(1), object(1)\n",
      "memory usage: 1.1+ KB\n"
     ]
    }
   ],
   "source": [
    "co_trips.info()\n",
    "plot_taxis = co_trips.head(10)"
   ]
  },
  {
   "cell_type": "code",
   "execution_count": 6,
   "metadata": {},
   "outputs": [],
   "source": [
    "#Vamos a definir aquí una función para conocer saber si hay valores duplicados en nuestros DataFrames,\n",
    "#creamos dos listas \"seen\" y \"duplicates\"\n",
    "#Por cada valor, vamos a añadirlos a una lista \"seen\" pero si éste ya fue añadido se añadirá a la lista \"duplicates\", al final imprimiremos \n",
    "#\"duplicates\" para ver aquellos valores duplicados\n",
    "\n",
    "def find_duplicates(lst):\n",
    "    seen = []\n",
    "    duplicates = []\n",
    "    for each in lst:\n",
    "        if each in seen:\n",
    "            duplicates.append(each)\n",
    "        else: seen.append(each)\n",
    "    return list(duplicates)"
   ]
  },
  {
   "cell_type": "code",
   "execution_count": 7,
   "metadata": {},
   "outputs": [
    {
     "data": {
      "text/plain": [
       "company_name                                 []\n",
       "trips_amount    [33, 29, 29, 21, 15, 14, 14, 7]\n",
       "dtype: object"
      ]
     },
     "execution_count": 7,
     "metadata": {},
     "output_type": "execute_result"
    }
   ],
   "source": [
    "co_trips.apply(find_duplicates)\n",
    "\n",
    "#Vemos que para la columna \"company_name\" no tenemos duplicados, pero para el número de viajes tenemos algunos dos o tres veces\n",
    "#Pero ya que los nombres de las compañías no están duplicados, podemos intuir que el número de viajes es el valor \"duplicado\", por lo que podemos ignorarlo\n"
   ]
  },
  {
   "cell_type": "code",
   "execution_count": 8,
   "metadata": {},
   "outputs": [
    {
     "data": {
      "text/html": [
       "<div>\n",
       "<style scoped>\n",
       "    .dataframe tbody tr th:only-of-type {\n",
       "        vertical-align: middle;\n",
       "    }\n",
       "\n",
       "    .dataframe tbody tr th {\n",
       "        vertical-align: top;\n",
       "    }\n",
       "\n",
       "    .dataframe thead th {\n",
       "        text-align: right;\n",
       "    }\n",
       "</style>\n",
       "<table border=\"1\" class=\"dataframe\">\n",
       "  <thead>\n",
       "    <tr style=\"text-align: right;\">\n",
       "      <th></th>\n",
       "      <th>dropoff_location_name</th>\n",
       "      <th>average_trips</th>\n",
       "    </tr>\n",
       "  </thead>\n",
       "  <tbody>\n",
       "  </tbody>\n",
       "</table>\n",
       "</div>"
      ],
      "text/plain": [
       "Empty DataFrame\n",
       "Columns: [dropoff_location_name, average_trips]\n",
       "Index: []"
      ]
     },
     "execution_count": 8,
     "metadata": {},
     "output_type": "execute_result"
    }
   ],
   "source": [
    "avg_trips.apply(find_duplicates)\n",
    "\n",
    "#Aquí podemos ver que sólo la columna de \"round_avg\" nos arrojó duplicados, esto quizás debido a que el redondeo para arriba hizo que \n",
    "#algunos valores se repitieran, el mismo caso que con el primer DataFrame"
   ]
  },
  {
   "cell_type": "code",
   "execution_count": 9,
   "metadata": {},
   "outputs": [
    {
     "name": "stdout",
     "output_type": "stream",
     "text": [
      "<class 'pandas.core.frame.DataFrame'>\n",
      "RangeIndex: 94 entries, 0 to 93\n",
      "Data columns (total 2 columns):\n",
      " #   Column                 Non-Null Count  Dtype  \n",
      "---  ------                 --------------  -----  \n",
      " 0   dropoff_location_name  94 non-null     object \n",
      " 1   average_trips          94 non-null     float64\n",
      "dtypes: float64(1), object(1)\n",
      "memory usage: 1.6+ KB\n"
     ]
    }
   ],
   "source": [
    "avg_trips.info()\n",
    "avg_trips.head(10)\n",
    "plot_trips = avg_trips.head(10)"
   ]
  },
  {
   "cell_type": "code",
   "execution_count": 10,
   "metadata": {},
   "outputs": [],
   "source": [
    "#Aquí vemos que los datos son números con decimal, ya que al momento de graficar ésto nos podría meter un poco\n",
    "#de ruido vamos a aplicar un redondeo para arriba, al tratarse de promedios y no datos en crudo no debería suponer \n",
    "#nigún problema al momento de hacer el cambio\n",
    "\n",
    "def redondeo_para_arriba(duracion):\n",
    "    redondeo=np.ceil(duracion)\n",
    "    return redondeo"
   ]
  },
  {
   "cell_type": "code",
   "execution_count": 11,
   "metadata": {},
   "outputs": [],
   "source": [
    "avg_trips['round_avg'] = avg_trips['average_trips'].apply(redondeo_para_arriba).astype(\"int64\")\n"
   ]
  },
  {
   "cell_type": "markdown",
   "metadata": {},
   "source": [
    "### Ya que vemos que ambos gráficos han sido modificados, ahora sí vamos a proceder al análisis estadístico"
   ]
  },
  {
   "cell_type": "markdown",
   "metadata": {},
   "source": [
    "## Barrios más concurridos"
   ]
  },
  {
   "cell_type": "code",
   "execution_count": 12,
   "metadata": {},
   "outputs": [
    {
     "data": {
      "image/png": "[encoded data removed]",
      "text/plain": [
       "<Figure size 640x480 with 1 Axes>"
      ]
     },
     "metadata": {},
     "output_type": "display_data"
    }
   ],
   "source": [
    "colors = ['#8B4513', '#D2691E', '#FFBF00', '#556B2F', '#800020', '#D2B48C', '#8B0000']\n",
    "plot_trips.plot(kind='bar',\n",
    "               x='dropoff_location_name',\n",
    "               y='average_trips',\n",
    "               color=colors,\n",
    "               title='Barrios más concurridos (viajes finalizados en Nov 2017)',\n",
    "               legend=False,\n",
    "               xlabel='Barrios',\n",
    "               ylabel='Viajes'\n",
    "               )\n",
    "\n",
    "plt.show()"
   ]
  },
  {
   "cell_type": "markdown",
   "metadata": {},
   "source": [
    "Estos son los principales barrios donde los viajes finalizan, por lo que podemos estimar que son los más concurridos - no incluye paradas, por lo que valdría la pena revisar las duraciones promedio de cada viaje por barrio para estimar si fueron viajes de 1 solo destino  o hubo paradas en el inter."
   ]
  },
  {
   "cell_type": "markdown",
   "metadata": {},
   "source": [
    "## Ahora vamos a revisar las compañías de taxis con mayor número de viajes\n",
    "\n",
    "Nos enfocaremos en las primeras 10, para tener un gráfico limpio y fácil de entender"
   ]
  },
  {
   "cell_type": "code",
   "execution_count": 13,
   "metadata": {},
   "outputs": [
    {
     "name": "stderr",
     "output_type": "stream",
     "text": [
      "C:\\Users\\cesar\\AppData\\Local\\Temp\\ipykernel_22004\\3249006373.py:9: UserWarning: set_ticklabels() should only be used with a fixed number of ticks, i.e. after set_ticks() or using a FixedLocator.\n",
      "  bar_plot.set_xticklabels(bar_plot.get_xticklabels(), rotation=90)\n"
     ]
    },
    {
     "data": {
      "image/png": "[encoded data removed]",
      "text/plain": [
       "<Figure size 1000x600 with 1 Axes>"
      ]
     },
     "metadata": {},
     "output_type": "display_data"
    }
   ],
   "source": [
    "\n",
    "plt.figure(figsize=(10, 6))\n",
    "bar_plot = sns.barplot(x='company_name',\n",
    "                       y='trips_amount',\n",
    "                       data=plot_taxis,\n",
    "                       )\n",
    "bar_plot.set_title('Empresas de Taxis y Viajes (viajes finalizados 15-16 de Nov, 2017)')\n",
    "bar_plot.set_xlabel('Compañía')\n",
    "bar_plot.set_ylabel('Viajes')\n",
    "bar_plot.set_xticklabels(bar_plot.get_xticklabels(), rotation=90)\n",
    "plt.show()"
   ]
  },
  {
   "cell_type": "markdown",
   "metadata": {},
   "source": [
    "Vemos que la compañía Flash Cab parece tener un mayor número de viajes en estas fechas, habrá que ver si hay una relación entre el número total de carros y los viajes que tiene cada compañía para saber cuál es la que genera mayores ganancias.\n"
   ]
  },
  {
   "cell_type": "markdown",
   "metadata": {},
   "source": [
    "### Dado que las tablas que fueron recopiladas nos muestras información de diferentes temporalidades\n",
    "#### (una incluye los viajes de todo el mes de Noviembre, y el otro sólo del 16 y 17 de Nov) no vamos a trabajar con los datos en conjunto ya que esto podría significar un sesgo importante al momento de usar una tabla junta para hacer cada tarea"
   ]
  },
  {
   "cell_type": "code",
   "execution_count": 14,
   "metadata": {},
   "outputs": [
    {
     "name": "stdout",
     "output_type": "stream",
     "text": [
      "<class 'pandas.core.frame.DataFrame'>\n",
      "RangeIndex: 1068 entries, 0 to 1067\n",
      "Data columns (total 3 columns):\n",
      " #   Column              Non-Null Count  Dtype  \n",
      "---  ------              --------------  -----  \n",
      " 0   start_ts            1068 non-null   object \n",
      " 1   weather_conditions  1068 non-null   object \n",
      " 2   duration_seconds    1068 non-null   float64\n",
      "dtypes: float64(1), object(2)\n",
      "memory usage: 25.2+ KB\n"
     ]
    },
    {
     "data": {
      "text/html": [
       "<div>\n",
       "<style scoped>\n",
       "    .dataframe tbody tr th:only-of-type {\n",
       "        vertical-align: middle;\n",
       "    }\n",
       "\n",
       "    .dataframe tbody tr th {\n",
       "        vertical-align: top;\n",
       "    }\n",
       "\n",
       "    .dataframe thead th {\n",
       "        text-align: right;\n",
       "    }\n",
       "</style>\n",
       "<table border=\"1\" class=\"dataframe\">\n",
       "  <thead>\n",
       "    <tr style=\"text-align: right;\">\n",
       "      <th></th>\n",
       "      <th>start_ts</th>\n",
       "      <th>weather_conditions</th>\n",
       "      <th>duration_seconds</th>\n",
       "    </tr>\n",
       "  </thead>\n",
       "  <tbody>\n",
       "    <tr>\n",
       "      <th>0</th>\n",
       "      <td>2017-11-25 16:00:00</td>\n",
       "      <td>Good</td>\n",
       "      <td>2410.0</td>\n",
       "    </tr>\n",
       "    <tr>\n",
       "      <th>1</th>\n",
       "      <td>2017-11-25 14:00:00</td>\n",
       "      <td>Good</td>\n",
       "      <td>1920.0</td>\n",
       "    </tr>\n",
       "    <tr>\n",
       "      <th>2</th>\n",
       "      <td>2017-11-25 12:00:00</td>\n",
       "      <td>Good</td>\n",
       "      <td>1543.0</td>\n",
       "    </tr>\n",
       "    <tr>\n",
       "      <th>3</th>\n",
       "      <td>2017-11-04 10:00:00</td>\n",
       "      <td>Good</td>\n",
       "      <td>2512.0</td>\n",
       "    </tr>\n",
       "    <tr>\n",
       "      <th>4</th>\n",
       "      <td>2017-11-11 07:00:00</td>\n",
       "      <td>Good</td>\n",
       "      <td>1440.0</td>\n",
       "    </tr>\n",
       "    <tr>\n",
       "      <th>5</th>\n",
       "      <td>2017-11-11 04:00:00</td>\n",
       "      <td>Good</td>\n",
       "      <td>1320.0</td>\n",
       "    </tr>\n",
       "    <tr>\n",
       "      <th>6</th>\n",
       "      <td>2017-11-04 16:00:00</td>\n",
       "      <td>Bad</td>\n",
       "      <td>2969.0</td>\n",
       "    </tr>\n",
       "    <tr>\n",
       "      <th>7</th>\n",
       "      <td>2017-11-18 11:00:00</td>\n",
       "      <td>Good</td>\n",
       "      <td>2280.0</td>\n",
       "    </tr>\n",
       "    <tr>\n",
       "      <th>8</th>\n",
       "      <td>2017-11-11 14:00:00</td>\n",
       "      <td>Good</td>\n",
       "      <td>2460.0</td>\n",
       "    </tr>\n",
       "    <tr>\n",
       "      <th>9</th>\n",
       "      <td>2017-11-11 12:00:00</td>\n",
       "      <td>Good</td>\n",
       "      <td>2040.0</td>\n",
       "    </tr>\n",
       "  </tbody>\n",
       "</table>\n",
       "</div>"
      ],
      "text/plain": [
       "              start_ts weather_conditions  duration_seconds\n",
       "0  2017-11-25 16:00:00               Good            2410.0\n",
       "1  2017-11-25 14:00:00               Good            1920.0\n",
       "2  2017-11-25 12:00:00               Good            1543.0\n",
       "3  2017-11-04 10:00:00               Good            2512.0\n",
       "4  2017-11-11 07:00:00               Good            1440.0\n",
       "5  2017-11-11 04:00:00               Good            1320.0\n",
       "6  2017-11-04 16:00:00                Bad            2969.0\n",
       "7  2017-11-18 11:00:00               Good            2280.0\n",
       "8  2017-11-11 14:00:00               Good            2460.0\n",
       "9  2017-11-11 12:00:00               Good            2040.0"
      ]
     },
     "execution_count": 14,
     "metadata": {},
     "output_type": "execute_result"
    }
   ],
   "source": [
    "#Aquí vamos a indagar respecto al último Df que creamos, con la información de los viajes entre Loop - O'Hare International Aiport\n",
    "#Primero echemos un vistazo a los df\n",
    "airport_travels.info()\n",
    "airport_travels.head(10)"
   ]
  },
  {
   "cell_type": "code",
   "execution_count": 15,
   "metadata": {},
   "outputs": [],
   "source": [
    "#Debido a la naturaleza de la lista, no podemos comprobar si hay duplicados significativos, ya que los registros son del mes pero sólo \n",
    "#tenemos marcadores de tiempo, es muy probable en cualquier otro día se repitan.\n",
    "#Si tuviéramos una lista completa podríamos guiarnos con IDs o algo similar, en este caso no tenemos\n",
    "#por lo que trabajaremos la lista completa."
   ]
  },
  {
   "cell_type": "code",
   "execution_count": 16,
   "metadata": {},
   "outputs": [
    {
     "name": "stdout",
     "output_type": "stream",
     "text": [
      "<class 'pandas.core.frame.DataFrame'>\n",
      "RangeIndex: 1068 entries, 0 to 1067\n",
      "Data columns (total 3 columns):\n",
      " #   Column              Non-Null Count  Dtype         \n",
      "---  ------              --------------  -----         \n",
      " 0   start_ts            1068 non-null   datetime64[ns]\n",
      " 1   weather_conditions  1068 non-null   object        \n",
      " 2   duration_seconds    1068 non-null   float64       \n",
      "dtypes: datetime64[ns](1), float64(1), object(1)\n",
      "memory usage: 25.2+ KB\n"
     ]
    }
   ],
   "source": [
    "#Tenemos que corregir la columna 'start_ts' ya que tenemos información muy valiosa en un formato en el cual\n",
    "#No nos permitirá un análisis adecuado, por lo que modificaremos el contenido en formato de tiempo\n",
    "\n",
    "airport_travels['start_ts']= pd.to_datetime(airport_travels['start_ts'])\n",
    "airport_travels.info()"
   ]
  },
  {
   "cell_type": "code",
   "execution_count": 17,
   "metadata": {},
   "outputs": [
    {
     "data": {
      "text/html": [
       "<div>\n",
       "<style scoped>\n",
       "    .dataframe tbody tr th:only-of-type {\n",
       "        vertical-align: middle;\n",
       "    }\n",
       "\n",
       "    .dataframe tbody tr th {\n",
       "        vertical-align: top;\n",
       "    }\n",
       "\n",
       "    .dataframe thead th {\n",
       "        text-align: right;\n",
       "    }\n",
       "</style>\n",
       "<table border=\"1\" class=\"dataframe\">\n",
       "  <thead>\n",
       "    <tr style=\"text-align: right;\">\n",
       "      <th></th>\n",
       "      <th>start_ts</th>\n",
       "      <th>weather_conditions</th>\n",
       "      <th>duration_seconds</th>\n",
       "      <th>dow</th>\n",
       "    </tr>\n",
       "  </thead>\n",
       "  <tbody>\n",
       "    <tr>\n",
       "      <th>0</th>\n",
       "      <td>2017-11-25 16:00:00</td>\n",
       "      <td>Good</td>\n",
       "      <td>2410.0</td>\n",
       "      <td>Sábado</td>\n",
       "    </tr>\n",
       "    <tr>\n",
       "      <th>1</th>\n",
       "      <td>2017-11-25 14:00:00</td>\n",
       "      <td>Good</td>\n",
       "      <td>1920.0</td>\n",
       "      <td>Sábado</td>\n",
       "    </tr>\n",
       "    <tr>\n",
       "      <th>2</th>\n",
       "      <td>2017-11-25 12:00:00</td>\n",
       "      <td>Good</td>\n",
       "      <td>1543.0</td>\n",
       "      <td>Sábado</td>\n",
       "    </tr>\n",
       "    <tr>\n",
       "      <th>3</th>\n",
       "      <td>2017-11-04 10:00:00</td>\n",
       "      <td>Good</td>\n",
       "      <td>2512.0</td>\n",
       "      <td>Sábado</td>\n",
       "    </tr>\n",
       "    <tr>\n",
       "      <th>4</th>\n",
       "      <td>2017-11-11 07:00:00</td>\n",
       "      <td>Good</td>\n",
       "      <td>1440.0</td>\n",
       "      <td>Sábado</td>\n",
       "    </tr>\n",
       "    <tr>\n",
       "      <th>...</th>\n",
       "      <td>...</td>\n",
       "      <td>...</td>\n",
       "      <td>...</td>\n",
       "      <td>...</td>\n",
       "    </tr>\n",
       "    <tr>\n",
       "      <th>1063</th>\n",
       "      <td>2017-11-25 11:00:00</td>\n",
       "      <td>Good</td>\n",
       "      <td>0.0</td>\n",
       "      <td>Sábado</td>\n",
       "    </tr>\n",
       "    <tr>\n",
       "      <th>1064</th>\n",
       "      <td>2017-11-11 10:00:00</td>\n",
       "      <td>Good</td>\n",
       "      <td>1318.0</td>\n",
       "      <td>Sábado</td>\n",
       "    </tr>\n",
       "    <tr>\n",
       "      <th>1065</th>\n",
       "      <td>2017-11-11 13:00:00</td>\n",
       "      <td>Good</td>\n",
       "      <td>2100.0</td>\n",
       "      <td>Sábado</td>\n",
       "    </tr>\n",
       "    <tr>\n",
       "      <th>1066</th>\n",
       "      <td>2017-11-11 08:00:00</td>\n",
       "      <td>Good</td>\n",
       "      <td>1380.0</td>\n",
       "      <td>Sábado</td>\n",
       "    </tr>\n",
       "    <tr>\n",
       "      <th>1067</th>\n",
       "      <td>2017-11-04 16:00:00</td>\n",
       "      <td>Bad</td>\n",
       "      <td>2834.0</td>\n",
       "      <td>Sábado</td>\n",
       "    </tr>\n",
       "  </tbody>\n",
       "</table>\n",
       "<p>1068 rows × 4 columns</p>\n",
       "</div>"
      ],
      "text/plain": [
       "                start_ts weather_conditions  duration_seconds     dow\n",
       "0    2017-11-25 16:00:00               Good            2410.0  Sábado\n",
       "1    2017-11-25 14:00:00               Good            1920.0  Sábado\n",
       "2    2017-11-25 12:00:00               Good            1543.0  Sábado\n",
       "3    2017-11-04 10:00:00               Good            2512.0  Sábado\n",
       "4    2017-11-11 07:00:00               Good            1440.0  Sábado\n",
       "...                  ...                ...               ...     ...\n",
       "1063 2017-11-25 11:00:00               Good               0.0  Sábado\n",
       "1064 2017-11-11 10:00:00               Good            1318.0  Sábado\n",
       "1065 2017-11-11 13:00:00               Good            2100.0  Sábado\n",
       "1066 2017-11-11 08:00:00               Good            1380.0  Sábado\n",
       "1067 2017-11-04 16:00:00                Bad            2834.0  Sábado\n",
       "\n",
       "[1068 rows x 4 columns]"
      ]
     },
     "execution_count": 17,
     "metadata": {},
     "output_type": "execute_result"
    }
   ],
   "source": [
    "#Ya que tenemos la fecha en formato adecuado, vamos a crear una columna con el día, ya que para nuestro análisis sólo necesitaremos enfocarnos\n",
    "#en los días \"Sábado\"\n",
    "airport_travels['dow'] = airport_travels['start_ts'].dt.day_name(locale='es_ES')\n",
    "airport_travels\n",
    "\n",
    "#Al hacer el procesamiento noté que todos los días del DF corresponden al sábado, por lo que continuaremos con el análisis"
   ]
  },
  {
   "cell_type": "markdown",
   "metadata": {},
   "source": [
    "### Ahora que tenemos nuestra DataFrame trabajada, procederemos a responder el último apartado del Proyecto:\n",
    "\n",
    "#### Prueba la hipótesis:\n",
    "\n",
    "\n",
    "> \"La duración promedio de los viajes desde el Loop hasta el Aeropuerto Internacional O'Hare cambia los sábados lluviosos\".\n",
    "\n",
    "\n",
    "Pimero vamos a plantear las hipótesis, nula y alternativa:\n",
    "\n",
    "H0 = \"La duración promedio de los viajes desde el Loop hasta el Aeropuero Internacional O'Hare cambia los sábados lluviosos.\"\n",
    "\n",
    "H1 = \"La duración promedio de los viajes desde el Loop hasta el Aeropuero Internacional O'Hare NO cambia los sábados lluviosos.\""
   ]
  },
  {
   "cell_type": "code",
   "execution_count": 39,
   "metadata": {},
   "outputs": [
    {
     "name": "stdout",
     "output_type": "stream",
     "text": [
      "La duración media de los viajes en días con buen clima es de: 1999.6756756756756\n",
      "La duración media de los viajes en días lluviosos es de: 2427.2055555555557\n"
     ]
    }
   ],
   "source": [
    "#Primero agruparemos nuestros datos, ya que tenemos que trabajar con 2 variables (\"sábado\" y \"bad\" y después por \"sábado\" y \"good\")\n",
    "\n",
    "rainy_days = airport_travels.query(\"weather_conditions == 'Bad'\").drop(columns=[\"start_ts\",\"dow\"]).reset_index()\n",
    "good_days = airport_travels.query(\"weather_conditions == 'Good'\").drop(columns=[\"start_ts\",\"dow\"]).reset_index()\n",
    "\n",
    "mean_dur_good = good_days['duration_seconds'].mean()\n",
    "mean_dur_rainy = rainy_days['duration_seconds'].mean()\n",
    "\n",
    "print(f\"La duración media de los viajes en días con buen clima es de:\", mean_dur_good)\n",
    "print(f\"La duración media de los viajes en días lluviosos es de:\", mean_dur_rainy)\n"
   ]
  },
  {
   "cell_type": "markdown",
   "metadata": {},
   "source": [
    "Ahora analizaremos con un test de Levene si las varianzas de nuestras muestras es distintas\n",
    "\n",
    "H0 = Las varianzas de nuestras muestras son iguales \n",
    "\n",
    "H1 = Las varianzas de nuestras muestras NO son iguales"
   ]
  },
  {
   "cell_type": "code",
   "execution_count": 46,
   "metadata": {},
   "outputs": [
    {
     "name": "stdout",
     "output_type": "stream",
     "text": [
      "valor p: 0.5332038671974493\n",
      "No podemos rechazar la hipótesis nula\n"
     ]
    }
   ],
   "source": [
    "#Primero con un test de levene vamos a analizar la varianza de cada uno de nuestros DFs, después podemos con base en la información ver qué\n",
    "#otro análisis estadístico aplicar para obtener los datos fiables\n",
    "\n",
    "alpha = 0.05\n",
    "\n",
    "var_value = st.levene(good_days['duration_seconds'], rainy_days['duration_seconds'])\n",
    "\n",
    "print('valor p:', var_value.pvalue)\n",
    "\n",
    "if (var_value.pvalue < alpha):\n",
    "    print(\"Rechazamos la hipótesis nula\")\n",
    "else:\n",
    "    print(\"No podemos rechazar la hipótesis nula\")"
   ]
  },
  {
   "cell_type": "markdown",
   "metadata": {},
   "source": [
    "Con un valor p = 0.53320, no podemos rechazar la hipótesis nula, por lo que las varianzas de las muestras son estadísticamente similares."
   ]
  },
  {
   "cell_type": "code",
   "execution_count": 49,
   "metadata": {},
   "outputs": [
    {
     "name": "stdout",
     "output_type": "stream",
     "text": [
      "valor p: 6.517970327099473e-12\n",
      "Rechazamos la hipótesis nula\n"
     ]
    }
   ],
   "source": [
    "alpha = 0.05\n",
    "results = st.ttest_ind(good_days['duration_seconds'], rainy_days['duration_seconds'], equal_var=True)\n",
    "\n",
    "print('valor p:', results.pvalue)\n",
    "\n",
    "if (results.pvalue < alpha):\n",
    "    print(\"Rechazamos la hipótesis nula\")\n",
    "else:\n",
    "    print(\"No podemos rechazar la hipótesis nula\")"
   ]
  },
  {
   "cell_type": "markdown",
   "metadata": {},
   "source": [
    "Con un Valor p = 6.517907\n",
    "Rechazamos la hipótesis nula, por lo que podemos decir que:\n",
    "\n",
    "La duración promedio de los viajes desde el Loop hasta el Aeropuero Internacional O'Hare NO cambia los sábados lluviosos."
   ]
  },
  {
   "cell_type": "markdown",
   "metadata": {},
   "source": [
    "# Conclusiones Generales"
   ]
  },
  {
   "cell_type": "markdown",
   "metadata": {},
   "source": [
    "## Encontramos que los principales Barrios donde finalizan los viajes que inician en el Aeropuerto Internacional O'Hare son:\n",
    "1. Loop\n",
    "2. Rivernorth\n",
    "3. Streeterville \n",
    "4. West Loop\n",
    "5. O'Hare\n",
    "\n",
    "Y la principal empresa de Taxis (con base en mayor número de viajes) es:\n",
    "- Flash Cab\n",
    "\n",
    "Con base en la información obtenida, también podemos -estadísticamente- decir que la duración promedio de los viajes los sábados es igual independientemente del clima."
   ]
  }
 ],
 "metadata": {
  "kernelspec": {
   "display_name": "Python 3",
   "language": "python",
   "name": "python3"
  },
  "language_info": {
   "codemirror_mode": {
    "name": "ipython",
    "version": 3
   },
   "file_extension": ".py",
   "mimetype": "text/x-python",
   "name": "python",
   "nbconvert_exporter": "python",
   "pygments_lexer": "ipython3",
   "version": "3.11.0"
  }
 },
 "nbformat": 4,
 "nbformat_minor": 2
}
